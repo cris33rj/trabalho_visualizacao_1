{
 "cells": [
  {
   "cell_type": "code",
   "execution_count": 16,
   "id": "fbdb5c0c",
   "metadata": {
    "_cell_guid": "b1076dfc-b9ad-4769-8c92-a6c4dae69d19",
    "_uuid": "8f2839f25d086af736a60e9eeb907d3b93b6e0e5",
    "execution": {
     "iopub.execute_input": "2023-09-21T18:43:12.556530Z",
     "iopub.status.busy": "2023-09-21T18:43:12.555612Z",
     "iopub.status.idle": "2023-09-21T18:43:15.036941Z",
     "shell.execute_reply": "2023-09-21T18:43:15.035418Z"
    },
    "papermill": {
     "duration": 2.503847,
     "end_time": "2023-09-21T18:43:15.040665",
     "exception": false,
     "start_time": "2023-09-21T18:43:12.536818",
     "status": "completed"
    },
    "tags": []
   },
   "outputs": [],
   "source": [
    "import numpy as np \n",
    "import pandas as pd \n",
    "import sys"
   ]
  },
  {
   "cell_type": "code",
   "execution_count": 17,
   "id": "c70d24ee",
   "metadata": {
    "execution": {
     "iopub.execute_input": "2023-09-21T18:43:15.086043Z",
     "iopub.status.busy": "2023-09-21T18:43:15.085290Z",
     "iopub.status.idle": "2023-09-21T18:43:15.164537Z",
     "shell.execute_reply": "2023-09-21T18:43:15.162921Z"
    },
    "papermill": {
     "duration": 0.094989,
     "end_time": "2023-09-21T18:43:15.167926",
     "exception": false,
     "start_time": "2023-09-21T18:43:15.072937",
     "status": "completed"
    },
    "tags": []
   },
   "outputs": [],
   "source": [
    "spotify_data = pd.read_csv('./data/spotify-2023.csv', encoding='ISO-8859-1')"
   ]
  },
  {
   "cell_type": "code",
   "execution_count": 18,
   "id": "fff38542",
   "metadata": {
    "execution": {
     "iopub.execute_input": "2023-09-21T18:43:20.084310Z",
     "iopub.status.busy": "2023-09-21T18:43:20.083039Z",
     "iopub.status.idle": "2023-09-21T18:43:20.759438Z",
     "shell.execute_reply": "2023-09-21T18:43:20.757812Z"
    },
    "papermill": {
     "duration": 0.697962,
     "end_time": "2023-09-21T18:43:20.763122",
     "exception": false,
     "start_time": "2023-09-21T18:43:20.065160",
     "status": "completed"
    },
    "tags": []
   },
   "outputs": [],
   "source": [
    "spotify_data['streams'] = pd.to_numeric(spotify_data['streams'], errors='coerce')\n",
    "spotify_data = spotify_data[spotify_data['released_year'] == 2021]\n",
    "artist_streams = spotify_data.groupby('artist(s)_name')['streams'].sum().sort_values(ascending=False).head(10)\n"
   ]
  },
  {
   "cell_type": "code",
   "execution_count": 19,
   "id": "85e3cdf7",
   "metadata": {},
   "outputs": [],
   "source": [
    "columns = ['artist(s)_name', 'Total Streams (in billions)']\n",
    "\n",
    "df_artist_streams  = pd.DataFrame(list(artist_streams.items()), columns=columns)"
   ]
  },
  {
   "cell_type": "code",
   "execution_count": 20,
   "id": "bb240bea",
   "metadata": {},
   "outputs": [
    {
     "name": "stdout",
     "output_type": "stream",
     "text": [
      "artist(s)_name,Total Streams (in billions)\n",
      "Olivia Rodrigo,7302144942.0\n",
      "Doja Cat,3388153726.0\n",
      "\"Justin Bieber, The Kid Laroi\",2665343922.0\n",
      "Adele,1872326023.0\n",
      "\"Jack Harlow, Lil Nas X\",1814349763.0\n",
      "BTS,1751981875.0\n",
      "\"SZA, Doja Cat\",1575467011.0\n",
      "\"Bruno Mars, Anderson .Paak, Silk Sonic\",1499431000.0\n",
      "Billie Eilish,1469555196.0\n",
      "\"Justin Bieber, Daniel Caesar, Giveon\",1445941661.0\n"
     ]
    }
   ],
   "source": [
    "df_artist_streams.to_csv(sys.stdout,header=True,index=False)"
   ]
  }
 ],
 "metadata": {
  "kernelspec": {
   "display_name": "Python 3",
   "language": "python",
   "name": "python3"
  },
  "language_info": {
   "codemirror_mode": {
    "name": "ipython",
    "version": 3
   },
   "file_extension": ".py",
   "mimetype": "text/x-python",
   "name": "python",
   "nbconvert_exporter": "python",
   "pygments_lexer": "ipython3",
   "version": "3.11.8"
  },
  "papermill": {
   "default_parameters": {},
   "duration": 26.911353,
   "end_time": "2023-09-21T18:43:35.236979",
   "environment_variables": {},
   "exception": null,
   "input_path": "__notebook__.ipynb",
   "output_path": "__notebook__.ipynb",
   "parameters": {},
   "start_time": "2023-09-21T18:43:08.325626",
   "version": "2.4.0"
  }
 },
 "nbformat": 4,
 "nbformat_minor": 5
}
