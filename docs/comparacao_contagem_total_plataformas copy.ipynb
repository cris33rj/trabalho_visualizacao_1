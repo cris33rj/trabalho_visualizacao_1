{
 "cells": [
  {
   "cell_type": "code",
   "execution_count": 1,
   "id": "fbdb5c0c",
   "metadata": {
    "_cell_guid": "b1076dfc-b9ad-4769-8c92-a6c4dae69d19",
    "_uuid": "8f2839f25d086af736a60e9eeb907d3b93b6e0e5",
    "execution": {
     "iopub.execute_input": "2023-09-21T18:43:12.556530Z",
     "iopub.status.busy": "2023-09-21T18:43:12.555612Z",
     "iopub.status.idle": "2023-09-21T18:43:15.036941Z",
     "shell.execute_reply": "2023-09-21T18:43:15.035418Z"
    },
    "papermill": {
     "duration": 2.503847,
     "end_time": "2023-09-21T18:43:15.040665",
     "exception": false,
     "start_time": "2023-09-21T18:43:12.536818",
     "status": "completed"
    },
    "tags": []
   },
   "outputs": [],
   "source": [
    "import numpy as np # linear algebra\n",
    "import pandas as pd # data processing, CSV file I/O (e.g. pd.read_csv)\n",
    "import matplotlib.pyplot as plt\n",
    "import seaborn as sns\n",
    "from itertools import combinations"
   ]
  },
  {
   "cell_type": "markdown",
   "id": "4cf503f3",
   "metadata": {
    "papermill": {
     "duration": 0.010233,
     "end_time": "2023-09-21T18:43:15.062407",
     "exception": false,
     "start_time": "2023-09-21T18:43:15.052174",
     "status": "completed"
    },
    "tags": []
   },
   "source": [
    "# 1. Loading the data"
   ]
  },
  {
   "cell_type": "code",
   "execution_count": 2,
   "id": "c70d24ee",
   "metadata": {
    "execution": {
     "iopub.execute_input": "2023-09-21T18:43:15.086043Z",
     "iopub.status.busy": "2023-09-21T18:43:15.085290Z",
     "iopub.status.idle": "2023-09-21T18:43:15.164537Z",
     "shell.execute_reply": "2023-09-21T18:43:15.162921Z"
    },
    "papermill": {
     "duration": 0.094989,
     "end_time": "2023-09-21T18:43:15.167926",
     "exception": false,
     "start_time": "2023-09-21T18:43:15.072937",
     "status": "completed"
    },
    "tags": []
   },
   "outputs": [],
   "source": [
    "# Attempting to load the dataset using 'ISO-8859-1' encoding\n",
    "spotify_data = pd.read_csv('./data/spotify-2023.csv', encoding='ISO-8859-1')\n",
    "\n",
    "# Displaying the first few rows of the dataset\n",
    "#spotify_data.head()\n"
   ]
  },
  {
   "cell_type": "markdown",
   "id": "9940c37d",
   "metadata": {
    "papermill": {
     "duration": 0.010719,
     "end_time": "2023-09-21T18:43:15.189842",
     "exception": false,
     "start_time": "2023-09-21T18:43:15.179123",
     "status": "completed"
    },
    "tags": []
   },
   "source": [
    "# 2. Some basic statistics"
   ]
  },
  {
   "cell_type": "code",
   "execution_count": 3,
   "id": "2c0cf859",
   "metadata": {
    "execution": {
     "iopub.execute_input": "2023-09-21T18:43:15.214411Z",
     "iopub.status.busy": "2023-09-21T18:43:15.213951Z",
     "iopub.status.idle": "2023-09-21T18:43:15.326297Z",
     "shell.execute_reply": "2023-09-21T18:43:15.324686Z"
    },
    "papermill": {
     "duration": 0.128466,
     "end_time": "2023-09-21T18:43:15.329414",
     "exception": false,
     "start_time": "2023-09-21T18:43:15.200948",
     "status": "completed"
    },
    "tags": []
   },
   "outputs": [],
   "source": [
    "# Getting a summary of the data\n",
    "#data_summary = spotify_data.describe(include='all')\n",
    "\n",
    "# Displaying the data summary\n",
    "#data_summary"
   ]
  },
  {
   "cell_type": "code",
   "execution_count": 4,
   "id": "f78e3075",
   "metadata": {
    "execution": {
     "iopub.execute_input": "2023-09-21T18:43:15.356923Z",
     "iopub.status.busy": "2023-09-21T18:43:15.355391Z",
     "iopub.status.idle": "2023-09-21T18:43:15.369667Z",
     "shell.execute_reply": "2023-09-21T18:43:15.368077Z"
    },
    "papermill": {
     "duration": 0.030882,
     "end_time": "2023-09-21T18:43:15.372669",
     "exception": false,
     "start_time": "2023-09-21T18:43:15.341787",
     "status": "completed"
    },
    "tags": []
   },
   "outputs": [],
   "source": [
    "# Checking for missing values in the dataset\n",
    "#missing_values = spotify_data.isnull().sum()\n",
    "\n",
    "# Displaying the count of missing values for each column\n",
    "#missing_values"
   ]
  },
  {
   "cell_type": "markdown",
   "id": "b4fab2aa",
   "metadata": {
    "papermill": {
     "duration": 0.012251,
     "end_time": "2023-09-21T18:43:15.397942",
     "exception": false,
     "start_time": "2023-09-21T18:43:15.385691",
     "status": "completed"
    },
    "tags": []
   },
   "source": [
    "# 3. Distribution of percentage features"
   ]
  },
  {
   "cell_type": "code",
   "execution_count": 5,
   "id": "879b7544",
   "metadata": {
    "execution": {
     "iopub.execute_input": "2023-09-21T18:43:15.424412Z",
     "iopub.status.busy": "2023-09-21T18:43:15.423956Z",
     "iopub.status.idle": "2023-09-21T18:43:19.271800Z",
     "shell.execute_reply": "2023-09-21T18:43:19.270550Z"
    },
    "papermill": {
     "duration": 3.864657,
     "end_time": "2023-09-21T18:43:19.274646",
     "exception": false,
     "start_time": "2023-09-21T18:43:15.409989",
     "status": "completed"
    },
    "tags": []
   },
   "outputs": [
    {
     "data": {
      "text/plain": [
       "' # Setting the aesthetics for the plots\\nsns.set_style(\"whitegrid\")\\n\\n# Creating a list of features to visualize\\nfeatures_to_visualize = [\\'danceability_%\\', \\'energy_%\\', \\'valence_%\\', \\'acousticness_%\\', \\'instrumentalness_%\\', \\'liveness_%\\', \\'speechiness_%\\']\\n\\n# Setting up the figure and axes\\nfig, axes = plt.subplots(nrows=len(features_to_visualize), figsize=(12, 15))\\n\\n# Plotting the distribution for each feature\\nfor i, feature in enumerate(features_to_visualize):\\n    sns.histplot(spotify_data[feature], ax=axes[i], bins=30, kde=True)\\n    axes[i].set_title(f\\'Distribution of {feature}\\', fontsize=14)\\n    axes[i].set_xlabel(feature)\\n    axes[i].set_ylabel(\\'Frequency\\')\\n\\nplt.tight_layout()\\nplt.show() '"
      ]
     },
     "execution_count": 5,
     "metadata": {},
     "output_type": "execute_result"
    }
   ],
   "source": [
    "\"\"\" # Setting the aesthetics for the plots\n",
    "sns.set_style(\"whitegrid\")\n",
    "\n",
    "# Creating a list of features to visualize\n",
    "features_to_visualize = ['danceability_%', 'energy_%', 'valence_%', 'acousticness_%', 'instrumentalness_%', 'liveness_%', 'speechiness_%']\n",
    "\n",
    "# Setting up the figure and axes\n",
    "fig, axes = plt.subplots(nrows=len(features_to_visualize), figsize=(12, 15))\n",
    "\n",
    "# Plotting the distribution for each feature\n",
    "for i, feature in enumerate(features_to_visualize):\n",
    "    sns.histplot(spotify_data[feature], ax=axes[i], bins=30, kde=True)\n",
    "    axes[i].set_title(f'Distribution of {feature}', fontsize=14)\n",
    "    axes[i].set_xlabel(feature)\n",
    "    axes[i].set_ylabel('Frequency')\n",
    "\n",
    "plt.tight_layout()\n",
    "plt.show() \"\"\""
   ]
  },
  {
   "cell_type": "markdown",
   "id": "9f83315a",
   "metadata": {
    "papermill": {
     "duration": 0.014568,
     "end_time": "2023-09-21T18:43:19.305018",
     "exception": false,
     "start_time": "2023-09-21T18:43:19.290450",
     "status": "completed"
    },
    "tags": []
   },
   "source": [
    "# 4. The top 10 songs based on their presence in Spotify playlists"
   ]
  },
  {
   "cell_type": "code",
   "execution_count": 6,
   "id": "632c4537",
   "metadata": {
    "execution": {
     "iopub.execute_input": "2023-09-21T18:43:19.339975Z",
     "iopub.status.busy": "2023-09-21T18:43:19.338813Z",
     "iopub.status.idle": "2023-09-21T18:43:20.010319Z",
     "shell.execute_reply": "2023-09-21T18:43:20.008603Z"
    },
    "papermill": {
     "duration": 0.692815,
     "end_time": "2023-09-21T18:43:20.013753",
     "exception": false,
     "start_time": "2023-09-21T18:43:19.320938",
     "status": "completed"
    },
    "tags": []
   },
   "outputs": [
    {
     "data": {
      "text/plain": [
       "' # Selecting the top 10 songs based on their presence in Spotify playlists\\ntop_songs_in_playlists = spotify_data.sort_values(by=\\'in_spotify_playlists\\', ascending=False).head(10)\\n\\n# Creating a combined column for track and artist name for better visualization\\ntop_songs_in_playlists[\\'track_artist\\'] = top_songs_in_playlists[\\'track_name\\'] + \" (\" + top_songs_in_playlists[\\'artist(s)_name\\'] + \")\"\\n\\n# Plotting the songs with artist names\\nplt.figure(figsize=(12, 10))\\nsns.barplot(x=top_songs_in_playlists[\\'in_spotify_playlists\\'], y=top_songs_in_playlists[\\'track_artist\\'], \\n            palette=\"viridis\", orient=\\'h\\')\\nplt.title(\\'Top 10 Songs Based on Presence in Spotify Playlists\\', fontsize=16)\\nplt.xlabel(\\'Number of Playlists\\')\\nplt.ylabel(\\'Track (Artist)\\')\\nplt.tight_layout()\\nplt.show() '"
      ]
     },
     "execution_count": 6,
     "metadata": {},
     "output_type": "execute_result"
    }
   ],
   "source": [
    "\"\"\" # Selecting the top 10 songs based on their presence in Spotify playlists\n",
    "top_songs_in_playlists = spotify_data.sort_values(by='in_spotify_playlists', ascending=False).head(10)\n",
    "\n",
    "# Creating a combined column for track and artist name for better visualization\n",
    "top_songs_in_playlists['track_artist'] = top_songs_in_playlists['track_name'] + \" (\" + top_songs_in_playlists['artist(s)_name'] + \")\"\n",
    "\n",
    "# Plotting the songs with artist names\n",
    "plt.figure(figsize=(12, 10))\n",
    "sns.barplot(x=top_songs_in_playlists['in_spotify_playlists'], y=top_songs_in_playlists['track_artist'], \n",
    "            palette=\"viridis\", orient='h')\n",
    "plt.title('Top 10 Songs Based on Presence in Spotify Playlists', fontsize=16)\n",
    "plt.xlabel('Number of Playlists')\n",
    "plt.ylabel('Track (Artist)')\n",
    "plt.tight_layout()\n",
    "plt.show() \"\"\""
   ]
  },
  {
   "cell_type": "markdown",
   "id": "2a9ff5f2",
   "metadata": {
    "papermill": {
     "duration": 0.016546,
     "end_time": "2023-09-21T18:43:20.046719",
     "exception": false,
     "start_time": "2023-09-21T18:43:20.030173",
     "status": "completed"
    },
    "tags": []
   },
   "source": [
    "# 5. Top 10 artists based on total streams"
   ]
  },
  {
   "cell_type": "code",
   "execution_count": 7,
   "id": "fff38542",
   "metadata": {
    "execution": {
     "iopub.execute_input": "2023-09-21T18:43:20.084310Z",
     "iopub.status.busy": "2023-09-21T18:43:20.083039Z",
     "iopub.status.idle": "2023-09-21T18:43:20.759438Z",
     "shell.execute_reply": "2023-09-21T18:43:20.757812Z"
    },
    "papermill": {
     "duration": 0.697962,
     "end_time": "2023-09-21T18:43:20.763122",
     "exception": false,
     "start_time": "2023-09-21T18:43:20.065160",
     "status": "completed"
    },
    "tags": []
   },
   "outputs": [
    {
     "data": {
      "text/plain": [
       "' spotify_data[\\'streams\\'] = pd.to_numeric(spotify_data[\\'streams\\'], errors=\\'coerce\\')\\n\\n# Grouping by artist(s) again and summing up their streams\\nartist_streams = spotify_data.groupby(\\'artist(s)_name\\')[\\'streams\\'].sum().sort_values(ascending=False).head(10)\\n\\n# Plotting the artists with the most streams again\\nplt.figure(figsize=(12, 10))\\nsns.barplot(x=artist_streams.values, y=artist_streams.index, palette=\"viridis\", orient=\\'h\\')\\nplt.title(\\'Top 10 Artists Based on Total Streams\\', fontsize=16)\\nplt.xlabel(\\'Total Streams (in billions)\\')\\nplt.ylabel(\\'Artist(s) Name\\')\\nplt.tight_layout()\\nplt.show() '"
      ]
     },
     "execution_count": 7,
     "metadata": {},
     "output_type": "execute_result"
    }
   ],
   "source": [
    "# Converting 'streams' column to numeric data type\n",
    "\"\"\" spotify_data['streams'] = pd.to_numeric(spotify_data['streams'], errors='coerce')\n",
    "\n",
    "# Grouping by artist(s) again and summing up their streams\n",
    "artist_streams = spotify_data.groupby('artist(s)_name')['streams'].sum().sort_values(ascending=False).head(10)\n",
    "\n",
    "# Plotting the artists with the most streams again\n",
    "plt.figure(figsize=(12, 10))\n",
    "sns.barplot(x=artist_streams.values, y=artist_streams.index, palette=\"viridis\", orient='h')\n",
    "plt.title('Top 10 Artists Based on Total Streams', fontsize=16)\n",
    "plt.xlabel('Total Streams (in billions)')\n",
    "plt.ylabel('Artist(s) Name')\n",
    "plt.tight_layout()\n",
    "plt.show() \"\"\""
   ]
  },
  {
   "cell_type": "markdown",
   "id": "19f5c7a9",
   "metadata": {
    "papermill": {
     "duration": 0.018871,
     "end_time": "2023-09-21T18:43:20.799030",
     "exception": false,
     "start_time": "2023-09-21T18:43:20.780159",
     "status": "completed"
    },
    "tags": []
   },
   "source": [
    "# 6. Streams vs percentage features"
   ]
  },
  {
   "cell_type": "code",
   "execution_count": 8,
   "id": "98de46f3",
   "metadata": {
    "execution": {
     "iopub.execute_input": "2023-09-21T18:43:20.835937Z",
     "iopub.status.busy": "2023-09-21T18:43:20.835499Z",
     "iopub.status.idle": "2023-09-21T18:43:23.756167Z",
     "shell.execute_reply": "2023-09-21T18:43:23.754651Z"
    },
    "papermill": {
     "duration": 2.945859,
     "end_time": "2023-09-21T18:43:23.762110",
     "exception": false,
     "start_time": "2023-09-21T18:43:20.816251",
     "status": "completed"
    },
    "tags": []
   },
   "outputs": [
    {
     "data": {
      "text/plain": [
       "\" # List of features to compare with streams\\nfeatures = ['danceability_%', 'valence_%', 'energy_%', 'acousticness_%', 'liveness_%', 'speechiness_%']\\n\\n# Setting up the figure and axes\\nfig, axes = plt.subplots(nrows=len(features), figsize=(12, 20))\\n\\n# Plotting scatter plots and printing correlation coefficients for each feature\\ncorrelations = {}\\nfor i, feature in enumerate(features):\\n    sns.scatterplot(x=spotify_data[feature], y=spotify_data['streams'], ax=axes[i], alpha=0.6)\\n    axes[i].set_title(f'Streams vs. {feature}', fontsize=14)\\n    axes[i].set_xlabel(feature)\\n    axes[i].set_ylabel('Streams')\\n    corr = spotify_data['streams'].corr(spotify_data[feature])\\n    correlations[feature] = corr\\n    axes[i].annotate(f'Correlation: {corr:.2f}', xy=(0.05, 0.9), xycoords='axes fraction', fontsize=12)\\n\\nplt.tight_layout()\\nplt.show()\\n\\ncorrelations \""
      ]
     },
     "execution_count": 8,
     "metadata": {},
     "output_type": "execute_result"
    }
   ],
   "source": [
    "\"\"\" # List of features to compare with streams\n",
    "features = ['danceability_%', 'valence_%', 'energy_%', 'acousticness_%', 'liveness_%', 'speechiness_%']\n",
    "\n",
    "# Setting up the figure and axes\n",
    "fig, axes = plt.subplots(nrows=len(features), figsize=(12, 20))\n",
    "\n",
    "# Plotting scatter plots and printing correlation coefficients for each feature\n",
    "correlations = {}\n",
    "for i, feature in enumerate(features):\n",
    "    sns.scatterplot(x=spotify_data[feature], y=spotify_data['streams'], ax=axes[i], alpha=0.6)\n",
    "    axes[i].set_title(f'Streams vs. {feature}', fontsize=14)\n",
    "    axes[i].set_xlabel(feature)\n",
    "    axes[i].set_ylabel('Streams')\n",
    "    corr = spotify_data['streams'].corr(spotify_data[feature])\n",
    "    correlations[feature] = corr\n",
    "    axes[i].annotate(f'Correlation: {corr:.2f}', xy=(0.05, 0.9), xycoords='axes fraction', fontsize=12)\n",
    "\n",
    "plt.tight_layout()\n",
    "plt.show()\n",
    "\n",
    "correlations \"\"\""
   ]
  },
  {
   "cell_type": "markdown",
   "id": "4d430d29",
   "metadata": {
    "papermill": {
     "duration": 0.024204,
     "end_time": "2023-09-21T18:43:23.861669",
     "exception": false,
     "start_time": "2023-09-21T18:43:23.837465",
     "status": "completed"
    },
    "tags": []
   },
   "source": [
    "# 7. Percentage features vs top artists"
   ]
  },
  {
   "cell_type": "code",
   "execution_count": 9,
   "id": "e66cab8c",
   "metadata": {
    "execution": {
     "iopub.execute_input": "2023-09-21T18:43:23.913925Z",
     "iopub.status.busy": "2023-09-21T18:43:23.913372Z",
     "iopub.status.idle": "2023-09-21T18:43:26.788326Z",
     "shell.execute_reply": "2023-09-21T18:43:26.786823Z"
    },
    "papermill": {
     "duration": 2.906445,
     "end_time": "2023-09-21T18:43:26.792837",
     "exception": false,
     "start_time": "2023-09-21T18:43:23.886392",
     "status": "completed"
    },
    "tags": []
   },
   "outputs": [
    {
     "data": {
      "text/plain": [
       "' # Selecting the top 10 artists based on the number of songs they have in the dataset\\ntop_artists = spotify_data[\\'artist(s)_name\\'].value_counts().head(10).index\\n\\n# Filtering the dataset to include only these top artists\\ntop_artists_data = spotify_data[spotify_data[\\'artist(s)_name\\'].isin(top_artists)]\\n\\n# Setting up the figure and axes\\nfig, axes = plt.subplots(nrows=len(features), figsize=(12, 20))\\n\\n# Plotting average values for each feature for the top artists\\nfor i, feature in enumerate(features):\\n    artist_feature_avg = top_artists_data.groupby(\\'artist(s)_name\\')[feature].mean().sort_values(ascending=False)\\n    sns.barplot(x=artist_feature_avg.values, y=artist_feature_avg.index, ax=axes[i], palette=\"viridis\")\\n    axes[i].set_title(f\\'Average {feature} for Top Artists\\', fontsize=14)\\n    axes[i].set_xlabel(f\\'Average {feature}\\')\\n    axes[i].set_ylabel(\\'Artist(s) Name\\')\\n\\nplt.tight_layout()\\nplt.show() '"
      ]
     },
     "execution_count": 9,
     "metadata": {},
     "output_type": "execute_result"
    }
   ],
   "source": [
    "\"\"\" # Selecting the top 10 artists based on the number of songs they have in the dataset\n",
    "top_artists = spotify_data['artist(s)_name'].value_counts().head(10).index\n",
    "\n",
    "# Filtering the dataset to include only these top artists\n",
    "top_artists_data = spotify_data[spotify_data['artist(s)_name'].isin(top_artists)]\n",
    "\n",
    "# Setting up the figure and axes\n",
    "fig, axes = plt.subplots(nrows=len(features), figsize=(12, 20))\n",
    "\n",
    "# Plotting average values for each feature for the top artists\n",
    "for i, feature in enumerate(features):\n",
    "    artist_feature_avg = top_artists_data.groupby('artist(s)_name')[feature].mean().sort_values(ascending=False)\n",
    "    sns.barplot(x=artist_feature_avg.values, y=artist_feature_avg.index, ax=axes[i], palette=\"viridis\")\n",
    "    axes[i].set_title(f'Average {feature} for Top Artists', fontsize=14)\n",
    "    axes[i].set_xlabel(f'Average {feature}')\n",
    "    axes[i].set_ylabel('Artist(s) Name')\n",
    "\n",
    "plt.tight_layout()\n",
    "plt.show() \"\"\""
   ]
  },
  {
   "cell_type": "markdown",
   "id": "48b9bb3b",
   "metadata": {
    "papermill": {
     "duration": 0.031089,
     "end_time": "2023-09-21T18:43:26.854071",
     "exception": false,
     "start_time": "2023-09-21T18:43:26.822982",
     "status": "completed"
    },
    "tags": []
   },
   "source": [
    "# 8. Temporal analysis"
   ]
  },
  {
   "cell_type": "code",
   "execution_count": 10,
   "id": "e0a28e8c",
   "metadata": {
    "execution": {
     "iopub.execute_input": "2023-09-21T18:43:26.918101Z",
     "iopub.status.busy": "2023-09-21T18:43:26.917499Z",
     "iopub.status.idle": "2023-09-21T18:43:28.313297Z",
     "shell.execute_reply": "2023-09-21T18:43:28.311507Z"
    },
    "papermill": {
     "duration": 1.432238,
     "end_time": "2023-09-21T18:43:28.316362",
     "exception": false,
     "start_time": "2023-09-21T18:43:26.884124",
     "status": "completed"
    },
    "tags": []
   },
   "outputs": [
    {
     "data": {
      "text/plain": [
       "\" # Checking unique values for 'released_year', 'released_month', and 'released_day'\\nunique_values = {\\n    'released_year': spotify_data['released_year'].unique(),\\n    'released_month': spotify_data['released_month'].unique(),\\n    'released_day': spotify_data['released_day'].unique()\\n}\\n\\n\\n# Creating a 'release_date_string' column\\nspotify_data['release_date_string'] = spotify_data['released_year'].astype(str) + '-' +                                       spotify_data['released_month'].astype(str) + '-' +                                       spotify_data['released_day'].astype(str)\\n\\n# Converting the 'release_date_string' column to datetime data type\\nspotify_data['release_date'] = pd.to_datetime(spotify_data['release_date_string'], errors='coerce')\\n\\n# Rechecking the distribution of song releases by year\\nyearly_releases = spotify_data['release_date'].dt.year.value_counts().sort_index()\\n\\n# Plotting the distribution of song releases by year\\nplt.figure(figsize=(14, 7))\\nyearly_releases.plot(kind='bar', color='skyblue')\\nplt.title('Distribution of Song Releases by Year', fontsize=16)\\nplt.xlabel('Year')\\nplt.ylabel('Number of Songs Released')\\nplt.xticks(rotation=45)\\nplt.tight_layout()\\nplt.show() \""
      ]
     },
     "execution_count": 10,
     "metadata": {},
     "output_type": "execute_result"
    }
   ],
   "source": [
    "\"\"\" # Checking unique values for 'released_year', 'released_month', and 'released_day'\n",
    "unique_values = {\n",
    "    'released_year': spotify_data['released_year'].unique(),\n",
    "    'released_month': spotify_data['released_month'].unique(),\n",
    "    'released_day': spotify_data['released_day'].unique()\n",
    "}\n",
    "\n",
    "\n",
    "# Creating a 'release_date_string' column\n",
    "spotify_data['release_date_string'] = spotify_data['released_year'].astype(str) + '-' + \\\n",
    "                                      spotify_data['released_month'].astype(str) + '-' + \\\n",
    "                                      spotify_data['released_day'].astype(str)\n",
    "\n",
    "# Converting the 'release_date_string' column to datetime data type\n",
    "spotify_data['release_date'] = pd.to_datetime(spotify_data['release_date_string'], errors='coerce')\n",
    "\n",
    "# Rechecking the distribution of song releases by year\n",
    "yearly_releases = spotify_data['release_date'].dt.year.value_counts().sort_index()\n",
    "\n",
    "# Plotting the distribution of song releases by year\n",
    "plt.figure(figsize=(14, 7))\n",
    "yearly_releases.plot(kind='bar', color='skyblue')\n",
    "plt.title('Distribution of Song Releases by Year', fontsize=16)\n",
    "plt.xlabel('Year')\n",
    "plt.ylabel('Number of Songs Released')\n",
    "plt.xticks(rotation=45)\n",
    "plt.tight_layout()\n",
    "plt.show() \"\"\""
   ]
  },
  {
   "cell_type": "code",
   "execution_count": 11,
   "id": "c865e952",
   "metadata": {
    "execution": {
     "iopub.execute_input": "2023-09-21T18:43:28.377318Z",
     "iopub.status.busy": "2023-09-21T18:43:28.376864Z",
     "iopub.status.idle": "2023-09-21T18:43:29.876467Z",
     "shell.execute_reply": "2023-09-21T18:43:29.874842Z"
    },
    "papermill": {
     "duration": 1.536322,
     "end_time": "2023-09-21T18:43:29.881745",
     "exception": false,
     "start_time": "2023-09-21T18:43:28.345423",
     "status": "completed"
    },
    "tags": []
   },
   "outputs": [
    {
     "data": {
      "text/plain": [
       "\" # Calculating yearly averages for streams, danceability, and energy\\nyearly_averages = spotify_data.groupby(spotify_data['release_date'].dt.year)[['streams', 'danceability_%', 'energy_%']].mean()\\n\\n# Plotting the yearly trends\\nfig, axes = plt.subplots(nrows=3, figsize=(14, 15))\\n\\n# Average Streams by Year\\naxes[0].plot(yearly_averages.index, yearly_averages['streams'], marker='o', color='teal')\\naxes[0].set_title('Yearly Trend in Average Streams', fontsize=16)\\naxes[0].set_xlabel('Year')\\naxes[0].set_ylabel('Average Streams')\\naxes[0].grid(True)\\n\\n# Average Danceability by Year\\naxes[1].plot(yearly_averages.index, yearly_averages['danceability_%'], marker='o', color='purple')\\naxes[1].set_title('Yearly Trend in Average Danceability', fontsize=16)\\naxes[1].set_xlabel('Year')\\naxes[1].set_ylabel('Average Danceability (%)')\\naxes[1].grid(True)\\n\\n# Average Energy by Year\\naxes[2].plot(yearly_averages.index, yearly_averages['energy_%'], marker='o', color='orange')\\naxes[2].set_title('Yearly Trend in Average Energy', fontsize=16)\\naxes[2].set_xlabel('Year')\\naxes[2].set_ylabel('Average Energy (%)')\\naxes[2].grid(True)\\n\\nplt.tight_layout()\\nplt.show() \""
      ]
     },
     "execution_count": 11,
     "metadata": {},
     "output_type": "execute_result"
    }
   ],
   "source": [
    "\"\"\" # Calculating yearly averages for streams, danceability, and energy\n",
    "yearly_averages = spotify_data.groupby(spotify_data['release_date'].dt.year)[['streams', 'danceability_%', 'energy_%']].mean()\n",
    "\n",
    "# Plotting the yearly trends\n",
    "fig, axes = plt.subplots(nrows=3, figsize=(14, 15))\n",
    "\n",
    "# Average Streams by Year\n",
    "axes[0].plot(yearly_averages.index, yearly_averages['streams'], marker='o', color='teal')\n",
    "axes[0].set_title('Yearly Trend in Average Streams', fontsize=16)\n",
    "axes[0].set_xlabel('Year')\n",
    "axes[0].set_ylabel('Average Streams')\n",
    "axes[0].grid(True)\n",
    "\n",
    "# Average Danceability by Year\n",
    "axes[1].plot(yearly_averages.index, yearly_averages['danceability_%'], marker='o', color='purple')\n",
    "axes[1].set_title('Yearly Trend in Average Danceability', fontsize=16)\n",
    "axes[1].set_xlabel('Year')\n",
    "axes[1].set_ylabel('Average Danceability (%)')\n",
    "axes[1].grid(True)\n",
    "\n",
    "# Average Energy by Year\n",
    "axes[2].plot(yearly_averages.index, yearly_averages['energy_%'], marker='o', color='orange')\n",
    "axes[2].set_title('Yearly Trend in Average Energy', fontsize=16)\n",
    "axes[2].set_xlabel('Year')\n",
    "axes[2].set_ylabel('Average Energy (%)')\n",
    "axes[2].grid(True)\n",
    "\n",
    "plt.tight_layout()\n",
    "plt.show() \"\"\""
   ]
  },
  {
   "cell_type": "markdown",
   "id": "aaf217e2",
   "metadata": {
    "papermill": {
     "duration": 0.032834,
     "end_time": "2023-09-21T18:43:29.952100",
     "exception": false,
     "start_time": "2023-09-21T18:43:29.919266",
     "status": "completed"
    },
    "tags": []
   },
   "source": [
    "# 9. Comparison across platforms"
   ]
  },
  {
   "cell_type": "code",
   "execution_count": 12,
   "id": "995e9c04",
   "metadata": {
    "execution": {
     "iopub.execute_input": "2023-09-21T18:43:30.021478Z",
     "iopub.status.busy": "2023-09-21T18:43:30.021017Z",
     "iopub.status.idle": "2023-09-21T18:43:30.030960Z",
     "shell.execute_reply": "2023-09-21T18:43:30.029683Z"
    },
    "papermill": {
     "duration": 0.048943,
     "end_time": "2023-09-21T18:43:30.033884",
     "exception": false,
     "start_time": "2023-09-21T18:43:29.984941",
     "status": "completed"
    },
    "tags": []
   },
   "outputs": [],
   "source": [
    "#spotify_data['in_spotify_playlists']"
   ]
  },
  {
   "cell_type": "code",
   "execution_count": 13,
   "id": "b37b5b38",
   "metadata": {
    "execution": {
     "iopub.execute_input": "2023-09-21T18:43:30.104838Z",
     "iopub.status.busy": "2023-09-21T18:43:30.104237Z",
     "iopub.status.idle": "2023-09-21T18:43:30.115593Z",
     "shell.execute_reply": "2023-09-21T18:43:30.113960Z"
    },
    "papermill": {
     "duration": 0.051653,
     "end_time": "2023-09-21T18:43:30.119150",
     "exception": false,
     "start_time": "2023-09-21T18:43:30.067497",
     "status": "completed"
    },
    "tags": []
   },
   "outputs": [],
   "source": [
    "#spotify_data['in_deezer_playlists']"
   ]
  },
  {
   "cell_type": "code",
   "execution_count": 14,
   "id": "bc21d9d2",
   "metadata": {},
   "outputs": [],
   "source": [
    "#teste2 = spotify_data['in_spotify_playlists'].sum() + spotify_data['in_spotify_charts'].sum(),\n",
    "#print (teste2)"
   ]
  },
  {
   "cell_type": "code",
   "execution_count": 15,
   "id": "668696a8",
   "metadata": {},
   "outputs": [],
   "source": [
    "def remover_virgula(string):\n",
    "    if isinstance(string, str):\n",
    "        string = float(string.replace(\",\", \"\"))        \n",
    "    return string "
   ]
  },
  {
   "cell_type": "code",
   "execution_count": 16,
   "id": "95986f06",
   "metadata": {},
   "outputs": [],
   "source": [
    "spotify_data['in_deezer_playlists'] = spotify_data['in_deezer_playlists'].apply(remover_virgula)\n",
    "teste = spotify_data['in_deezer_playlists'].sum()\n",
    "#print(teste)"
   ]
  },
  {
   "cell_type": "code",
   "execution_count": 17,
   "id": "0579f714",
   "metadata": {},
   "outputs": [],
   "source": [
    "#spotify_data['in_deezer_charts'] = spotify_data['in_deezer_charts'].apply(remover_virgula)\n",
    "teste = spotify_data['in_deezer_charts'].sum()\n",
    "#print(teste)"
   ]
  },
  {
   "cell_type": "code",
   "execution_count": 18,
   "id": "34c59b1f",
   "metadata": {},
   "outputs": [],
   "source": [
    "spotify_data['in_shazam_charts'] = spotify_data['in_shazam_charts'].apply(remover_virgula)\n",
    "\n",
    "teste3 = spotify_data['in_shazam_charts'].sum()\n",
    "#print(teste3)"
   ]
  },
  {
   "cell_type": "code",
   "execution_count": 19,
   "id": "f248c68c",
   "metadata": {
    "execution": {
     "iopub.execute_input": "2023-09-21T18:43:30.188664Z",
     "iopub.status.busy": "2023-09-21T18:43:30.187796Z",
     "iopub.status.idle": "2023-09-21T18:43:30.602691Z",
     "shell.execute_reply": "2023-09-21T18:43:30.601036Z"
    },
    "papermill": {
     "duration": 0.453186,
     "end_time": "2023-09-21T18:43:30.605794",
     "exception": false,
     "start_time": "2023-09-21T18:43:30.152608",
     "status": "completed"
    },
    "tags": []
   },
   "outputs": [
    {
     "data": {
      "text/plain": [
       "\" # Plotting the total count comparison for Spotify and Apple Music\\nplt.figure(figsize=(10, 7))\\nplt.bar(total_counts.keys(), total_counts.values(), color=['green', 'red'])\\nplt.title('Total Count of Tracks in Playlists/Charts: Spotify, Apple Music, Deezer', fontsize=16)\\nplt.ylabel('Total Count')\\nplt.xlabel('Platform')\\nplt.tight_layout()\\nplt.show() \""
      ]
     },
     "execution_count": 19,
     "metadata": {},
     "output_type": "execute_result"
    }
   ],
   "source": [
    "# Calculating the total count of tracks present in playlists/charts for Spotify and Apple Music\n",
    "total_counts = {\n",
    "    'Spotify': spotify_data['in_spotify_playlists'].sum() + spotify_data['in_spotify_charts'].sum(),\n",
    "    'Apple Music': spotify_data['in_apple_playlists'].sum() + spotify_data['in_apple_charts'].sum(),\n",
    "    'Deezer Music': spotify_data['in_deezer_playlists'].sum() + spotify_data['in_deezer_charts'].sum(),\n",
    "    'Shazam Music': spotify_data['in_shazam_charts'].sum()\n",
    "}\n",
    "\n",
    "\"\"\" # Plotting the total count comparison for Spotify and Apple Music\n",
    "plt.figure(figsize=(10, 7))\n",
    "plt.bar(total_counts.keys(), total_counts.values(), color=['green', 'red'])\n",
    "plt.title('Total Count of Tracks in Playlists/Charts: Spotify, Apple Music, Deezer', fontsize=16)\n",
    "plt.ylabel('Total Count')\n",
    "plt.xlabel('Platform')\n",
    "plt.tight_layout()\n",
    "plt.show() \"\"\"\n"
   ]
  },
  {
   "cell_type": "code",
   "execution_count": 20,
   "id": "15b8001f",
   "metadata": {},
   "outputs": [],
   "source": [
    "#print(total_counts)"
   ]
  },
  {
   "cell_type": "code",
   "execution_count": 21,
   "id": "fc0e034a",
   "metadata": {},
   "outputs": [],
   "source": [
    "data = {key: [value] for key, value in total_counts.items()}\n",
    "df_total_counts_spotify_apple_deezer_shazam = pd.DataFrame.from_dict(data, orient='columns')\n",
    "\n",
    "# Print the DataFrame\n",
    "#print(df_total_counts_spotify_apple_deezer_shazam)"
   ]
  },
  {
   "cell_type": "code",
   "execution_count": 22,
   "id": "5fbfef0c",
   "metadata": {},
   "outputs": [
    {
     "data": {
      "text/html": [
       "<div>\n",
       "<style scoped>\n",
       "    .dataframe tbody tr th:only-of-type {\n",
       "        vertical-align: middle;\n",
       "    }\n",
       "\n",
       "    .dataframe tbody tr th {\n",
       "        vertical-align: top;\n",
       "    }\n",
       "\n",
       "    .dataframe thead th {\n",
       "        text-align: right;\n",
       "    }\n",
       "</style>\n",
       "<table border=\"1\" class=\"dataframe\">\n",
       "  <thead>\n",
       "    <tr style=\"text-align: right;\">\n",
       "      <th></th>\n",
       "      <th>Spotify</th>\n",
       "      <th>Apple Music</th>\n",
       "      <th>Deezer Music</th>\n",
       "      <th>Shazam Music</th>\n",
       "    </tr>\n",
       "  </thead>\n",
       "  <tbody>\n",
       "    <tr>\n",
       "      <th>0</th>\n",
       "      <td>4967164</td>\n",
       "      <td>114094</td>\n",
       "      <td>369625.0</td>\n",
       "      <td>54176.0</td>\n",
       "    </tr>\n",
       "  </tbody>\n",
       "</table>\n",
       "</div>"
      ],
      "text/plain": [
       "   Spotify  Apple Music  Deezer Music  Shazam Music\n",
       "0  4967164       114094      369625.0       54176.0"
      ]
     },
     "execution_count": 22,
     "metadata": {},
     "output_type": "execute_result"
    }
   ],
   "source": [
    "df_total_counts_spotify_apple_deezer_shazam.head()"
   ]
  },
  {
   "cell_type": "code",
   "execution_count": 32,
   "id": "6edf3575",
   "metadata": {
    "execution": {
     "iopub.execute_input": "2023-09-21T18:43:30.677880Z",
     "iopub.status.busy": "2023-09-21T18:43:30.677346Z",
     "iopub.status.idle": "2023-09-21T18:43:30.705087Z",
     "shell.execute_reply": "2023-09-21T18:43:30.703438Z"
    },
    "papermill": {
     "duration": 0.067941,
     "end_time": "2023-09-21T18:43:30.707960",
     "exception": false,
     "start_time": "2023-09-21T18:43:30.640019",
     "status": "completed"
    },
    "tags": []
   },
   "outputs": [
    {
     "name": "stderr",
     "output_type": "stream",
     "text": [
      "C:\\Users\\cristiano.nascimento\\AppData\\Local\\Temp\\ipykernel_42380\\666036796.py:3: SettingWithCopyWarning: \n",
      "A value is trying to be set on a copy of a slice from a DataFrame.\n",
      "Try using .loc[row_indexer,col_indexer] = value instead\n",
      "\n",
      "See the caveats in the documentation: https://pandas.pydata.org/pandas-docs/stable/user_guide/indexing.html#returning-a-view-versus-a-copy\n",
      "  top_songs_spotify['spotify_total'] = top_songs_spotify['in_spotify_playlists'] + top_songs_spotify['in_spotify_charts']\n",
      "C:\\Users\\cristiano.nascimento\\AppData\\Local\\Temp\\ipykernel_42380\\666036796.py:8: SettingWithCopyWarning: \n",
      "A value is trying to be set on a copy of a slice from a DataFrame.\n",
      "Try using .loc[row_indexer,col_indexer] = value instead\n",
      "\n",
      "See the caveats in the documentation: https://pandas.pydata.org/pandas-docs/stable/user_guide/indexing.html#returning-a-view-versus-a-copy\n",
      "  top_songs_apple['apple_total'] = top_songs_apple['in_apple_playlists'] + top_songs_apple['in_apple_charts']\n",
      "C:\\Users\\cristiano.nascimento\\AppData\\Local\\Temp\\ipykernel_42380\\666036796.py:13: SettingWithCopyWarning: \n",
      "A value is trying to be set on a copy of a slice from a DataFrame.\n",
      "Try using .loc[row_indexer,col_indexer] = value instead\n",
      "\n",
      "See the caveats in the documentation: https://pandas.pydata.org/pandas-docs/stable/user_guide/indexing.html#returning-a-view-versus-a-copy\n",
      "  top_songs_deezer['deezer_total'] = top_songs_deezer['in_deezer_playlists'] + top_songs_deezer['in_deezer_charts']\n",
      "C:\\Users\\cristiano.nascimento\\AppData\\Local\\Temp\\ipykernel_42380\\666036796.py:18: SettingWithCopyWarning: \n",
      "A value is trying to be set on a copy of a slice from a DataFrame.\n",
      "Try using .loc[row_indexer,col_indexer] = value instead\n",
      "\n",
      "See the caveats in the documentation: https://pandas.pydata.org/pandas-docs/stable/user_guide/indexing.html#returning-a-view-versus-a-copy\n",
      "  top_songs_shazam['shazam_total'] = top_songs_shazam['in_shazam_charts']\n"
     ]
    }
   ],
   "source": [
    "# Identifying top 10 songs for Spotify based on their presence in playlists and charts\n",
    "top_songs_spotify = spotify_data[['track_name', 'artist(s)_name', 'in_spotify_playlists', 'in_spotify_charts']]\n",
    "top_songs_spotify['spotify_total'] = top_songs_spotify['in_spotify_playlists'] + top_songs_spotify['in_spotify_charts']\n",
    "top_songs_spotify = top_songs_spotify.sort_values(by='spotify_total', ascending=False).head(10)\n",
    "\n",
    "# Identifying top 10 songs for Apple Music based on their presence in playlists and charts\n",
    "top_songs_apple = spotify_data[['track_name', 'artist(s)_name', 'in_apple_playlists', 'in_apple_charts']]\n",
    "top_songs_apple['apple_total'] = top_songs_apple['in_apple_playlists'] + top_songs_apple['in_apple_charts']\n",
    "top_songs_apple = top_songs_apple.sort_values(by='apple_total', ascending=False).head(10)\n",
    "\n",
    "# Identifying top 10 songs for Apple Music based on their presence in playlists and charts\n",
    "top_songs_deezer = spotify_data[['track_name', 'artist(s)_name', 'in_deezer_playlists', 'in_deezer_charts']]\n",
    "top_songs_deezer['deezer_total'] = top_songs_deezer['in_deezer_playlists'] + top_songs_deezer['in_deezer_charts']\n",
    "top_songs_deezer = top_songs_deezer.sort_values(by='deezer_total', ascending=False).head(10)\n",
    "\n",
    "# Identifying top 10 songs for Apple Music based on their presence in playlists and charts\n",
    "top_songs_shazam = spotify_data[['track_name', 'artist(s)_name', 'in_shazam_charts']]\n",
    "top_songs_shazam['shazam_total'] = top_songs_shazam['in_shazam_charts']\n",
    "top_songs_shazam = top_songs_shazam.sort_values(by='shazam_total', ascending=False).head(10)\n",
    "\n"
   ]
  },
  {
   "cell_type": "code",
   "execution_count": 24,
   "id": "93d4a2f8",
   "metadata": {
    "execution": {
     "iopub.execute_input": "2023-09-21T18:43:30.779835Z",
     "iopub.status.busy": "2023-09-21T18:43:30.778116Z",
     "iopub.status.idle": "2023-09-21T18:43:30.793708Z",
     "shell.execute_reply": "2023-09-21T18:43:30.792349Z"
    },
    "papermill": {
     "duration": 0.054519,
     "end_time": "2023-09-21T18:43:30.796606",
     "exception": false,
     "start_time": "2023-09-21T18:43:30.742087",
     "status": "completed"
    },
    "tags": []
   },
   "outputs": [
    {
     "data": {
      "text/html": [
       "<div>\n",
       "<style scoped>\n",
       "    .dataframe tbody tr th:only-of-type {\n",
       "        vertical-align: middle;\n",
       "    }\n",
       "\n",
       "    .dataframe tbody tr th {\n",
       "        vertical-align: top;\n",
       "    }\n",
       "\n",
       "    .dataframe thead th {\n",
       "        text-align: right;\n",
       "    }\n",
       "</style>\n",
       "<table border=\"1\" class=\"dataframe\">\n",
       "  <thead>\n",
       "    <tr style=\"text-align: right;\">\n",
       "      <th></th>\n",
       "      <th>track_name</th>\n",
       "      <th>artist(s)_name</th>\n",
       "      <th>in_apple_playlists</th>\n",
       "      <th>in_apple_charts</th>\n",
       "      <th>apple_total</th>\n",
       "    </tr>\n",
       "  </thead>\n",
       "  <tbody>\n",
       "    <tr>\n",
       "      <th>55</th>\n",
       "      <td>Blinding Lights</td>\n",
       "      <td>The Weeknd</td>\n",
       "      <td>672</td>\n",
       "      <td>199</td>\n",
       "      <td>871</td>\n",
       "    </tr>\n",
       "    <tr>\n",
       "      <th>620</th>\n",
       "      <td>Dance Monkey</td>\n",
       "      <td>Tones and I</td>\n",
       "      <td>533</td>\n",
       "      <td>167</td>\n",
       "      <td>700</td>\n",
       "    </tr>\n",
       "    <tr>\n",
       "      <th>403</th>\n",
       "      <td>One Kiss (with Dua Lipa)</td>\n",
       "      <td>Calvin Harris, Dua Lipa</td>\n",
       "      <td>537</td>\n",
       "      <td>122</td>\n",
       "      <td>659</td>\n",
       "    </tr>\n",
       "    <tr>\n",
       "      <th>407</th>\n",
       "      <td>Don't Start Now</td>\n",
       "      <td>Dua Lipa</td>\n",
       "      <td>532</td>\n",
       "      <td>77</td>\n",
       "      <td>609</td>\n",
       "    </tr>\n",
       "    <tr>\n",
       "      <th>14</th>\n",
       "      <td>As It Was</td>\n",
       "      <td>Harry Styles</td>\n",
       "      <td>403</td>\n",
       "      <td>198</td>\n",
       "      <td>601</td>\n",
       "    </tr>\n",
       "    <tr>\n",
       "      <th>84</th>\n",
       "      <td>STAY (with Justin Bieber)</td>\n",
       "      <td>Justin Bieber, The Kid Laroi</td>\n",
       "      <td>492</td>\n",
       "      <td>99</td>\n",
       "      <td>591</td>\n",
       "    </tr>\n",
       "    <tr>\n",
       "      <th>86</th>\n",
       "      <td>Someone You Loved</td>\n",
       "      <td>Lewis Capaldi</td>\n",
       "      <td>440</td>\n",
       "      <td>125</td>\n",
       "      <td>565</td>\n",
       "    </tr>\n",
       "    <tr>\n",
       "      <th>127</th>\n",
       "      <td>Watermelon Sugar</td>\n",
       "      <td>Harry Styles</td>\n",
       "      <td>437</td>\n",
       "      <td>115</td>\n",
       "      <td>552</td>\n",
       "    </tr>\n",
       "    <tr>\n",
       "      <th>162</th>\n",
       "      <td>One Dance</td>\n",
       "      <td>Drake, WizKid, Kyla</td>\n",
       "      <td>433</td>\n",
       "      <td>107</td>\n",
       "      <td>540</td>\n",
       "    </tr>\n",
       "    <tr>\n",
       "      <th>71</th>\n",
       "      <td>Heat Waves</td>\n",
       "      <td>Glass Animals</td>\n",
       "      <td>386</td>\n",
       "      <td>144</td>\n",
       "      <td>530</td>\n",
       "    </tr>\n",
       "  </tbody>\n",
       "</table>\n",
       "</div>"
      ],
      "text/plain": [
       "                    track_name                artist(s)_name  \\\n",
       "55             Blinding Lights                    The Weeknd   \n",
       "620               Dance Monkey                   Tones and I   \n",
       "403   One Kiss (with Dua Lipa)       Calvin Harris, Dua Lipa   \n",
       "407            Don't Start Now                      Dua Lipa   \n",
       "14                   As It Was                  Harry Styles   \n",
       "84   STAY (with Justin Bieber)  Justin Bieber, The Kid Laroi   \n",
       "86           Someone You Loved                 Lewis Capaldi   \n",
       "127           Watermelon Sugar                  Harry Styles   \n",
       "162                  One Dance           Drake, WizKid, Kyla   \n",
       "71                  Heat Waves                 Glass Animals   \n",
       "\n",
       "     in_apple_playlists  in_apple_charts  apple_total  \n",
       "55                  672              199          871  \n",
       "620                 533              167          700  \n",
       "403                 537              122          659  \n",
       "407                 532               77          609  \n",
       "14                  403              198          601  \n",
       "84                  492               99          591  \n",
       "86                  440              125          565  \n",
       "127                 437              115          552  \n",
       "162                 433              107          540  \n",
       "71                  386              144          530  "
      ]
     },
     "execution_count": 24,
     "metadata": {},
     "output_type": "execute_result"
    }
   ],
   "source": [
    "top_songs_apple"
   ]
  },
  {
   "cell_type": "code",
   "execution_count": 31,
   "id": "a51d7a8a",
   "metadata": {},
   "outputs": [
    {
     "data": {
      "text/html": [
       "<div>\n",
       "<style scoped>\n",
       "    .dataframe tbody tr th:only-of-type {\n",
       "        vertical-align: middle;\n",
       "    }\n",
       "\n",
       "    .dataframe tbody tr th {\n",
       "        vertical-align: top;\n",
       "    }\n",
       "\n",
       "    .dataframe thead th {\n",
       "        text-align: right;\n",
       "    }\n",
       "</style>\n",
       "<table border=\"1\" class=\"dataframe\">\n",
       "  <thead>\n",
       "    <tr style=\"text-align: right;\">\n",
       "      <th></th>\n",
       "      <th>track_name</th>\n",
       "      <th>artist(s)_name</th>\n",
       "      <th>in_deezer_playlists</th>\n",
       "      <th>in_deezer_charts</th>\n",
       "      <th>deezer_total</th>\n",
       "    </tr>\n",
       "  </thead>\n",
       "  <tbody>\n",
       "    <tr>\n",
       "      <th>624</th>\n",
       "      <td>Smells Like Teen Spirit - Remastered 2021</td>\n",
       "      <td>Nirvana</td>\n",
       "      <td>12367.0</td>\n",
       "      <td>4</td>\n",
       "      <td>12371.0</td>\n",
       "    </tr>\n",
       "    <tr>\n",
       "      <th>757</th>\n",
       "      <td>Get Lucky - Radio Edit</td>\n",
       "      <td>Pharrell Williams, Nile Rodgers, Daft Punk</td>\n",
       "      <td>8215.0</td>\n",
       "      <td>0</td>\n",
       "      <td>8215.0</td>\n",
       "    </tr>\n",
       "    <tr>\n",
       "      <th>910</th>\n",
       "      <td>The Scientist</td>\n",
       "      <td>Coldplay</td>\n",
       "      <td>7827.0</td>\n",
       "      <td>1</td>\n",
       "      <td>7828.0</td>\n",
       "    </tr>\n",
       "    <tr>\n",
       "      <th>331</th>\n",
       "      <td>Numb</td>\n",
       "      <td>Linkin Park</td>\n",
       "      <td>7341.0</td>\n",
       "      <td>0</td>\n",
       "      <td>7341.0</td>\n",
       "    </tr>\n",
       "    <tr>\n",
       "      <th>179</th>\n",
       "      <td>Shape of You</td>\n",
       "      <td>Ed Sheeran</td>\n",
       "      <td>6808.0</td>\n",
       "      <td>7</td>\n",
       "      <td>6815.0</td>\n",
       "    </tr>\n",
       "    <tr>\n",
       "      <th>182</th>\n",
       "      <td>Creep</td>\n",
       "      <td>Radiohead</td>\n",
       "      <td>6807.0</td>\n",
       "      <td>5</td>\n",
       "      <td>6812.0</td>\n",
       "    </tr>\n",
       "    <tr>\n",
       "      <th>358</th>\n",
       "      <td>In The End</td>\n",
       "      <td>Linkin Park</td>\n",
       "      <td>6808.0</td>\n",
       "      <td>2</td>\n",
       "      <td>6810.0</td>\n",
       "    </tr>\n",
       "    <tr>\n",
       "      <th>871</th>\n",
       "      <td>Sweet Child O' Mine</td>\n",
       "      <td>Guns N' Roses</td>\n",
       "      <td>6720.0</td>\n",
       "      <td>3</td>\n",
       "      <td>6723.0</td>\n",
       "    </tr>\n",
       "    <tr>\n",
       "      <th>649</th>\n",
       "      <td>Still D.R.E.</td>\n",
       "      <td>Dr. Dre, Snoop Dogg</td>\n",
       "      <td>6591.0</td>\n",
       "      <td>1</td>\n",
       "      <td>6592.0</td>\n",
       "    </tr>\n",
       "    <tr>\n",
       "      <th>126</th>\n",
       "      <td>Can't Hold Us (feat. Ray Dalton)</td>\n",
       "      <td>Ray Dalton, Ryan Lewis, Macklemore</td>\n",
       "      <td>6551.0</td>\n",
       "      <td>2</td>\n",
       "      <td>6553.0</td>\n",
       "    </tr>\n",
       "  </tbody>\n",
       "</table>\n",
       "</div>"
      ],
      "text/plain": [
       "                                    track_name  \\\n",
       "624  Smells Like Teen Spirit - Remastered 2021   \n",
       "757                     Get Lucky - Radio Edit   \n",
       "910                              The Scientist   \n",
       "331                                       Numb   \n",
       "179                               Shape of You   \n",
       "182                                      Creep   \n",
       "358                                 In The End   \n",
       "871                        Sweet Child O' Mine   \n",
       "649                               Still D.R.E.   \n",
       "126           Can't Hold Us (feat. Ray Dalton)   \n",
       "\n",
       "                                 artist(s)_name  in_deezer_playlists  \\\n",
       "624                                     Nirvana              12367.0   \n",
       "757  Pharrell Williams, Nile Rodgers, Daft Punk               8215.0   \n",
       "910                                    Coldplay               7827.0   \n",
       "331                                 Linkin Park               7341.0   \n",
       "179                                  Ed Sheeran               6808.0   \n",
       "182                                   Radiohead               6807.0   \n",
       "358                                 Linkin Park               6808.0   \n",
       "871                               Guns N' Roses               6720.0   \n",
       "649                         Dr. Dre, Snoop Dogg               6591.0   \n",
       "126          Ray Dalton, Ryan Lewis, Macklemore               6551.0   \n",
       "\n",
       "     in_deezer_charts  deezer_total  \n",
       "624                 4       12371.0  \n",
       "757                 0        8215.0  \n",
       "910                 1        7828.0  \n",
       "331                 0        7341.0  \n",
       "179                 7        6815.0  \n",
       "182                 5        6812.0  \n",
       "358                 2        6810.0  \n",
       "871                 3        6723.0  \n",
       "649                 1        6592.0  \n",
       "126                 2        6553.0  "
      ]
     },
     "execution_count": 31,
     "metadata": {},
     "output_type": "execute_result"
    }
   ],
   "source": [
    "top_songs_deezer"
   ]
  },
  {
   "cell_type": "code",
   "execution_count": 33,
   "id": "ca10d0d8",
   "metadata": {},
   "outputs": [
    {
     "data": {
      "text/html": [
       "<div>\n",
       "<style scoped>\n",
       "    .dataframe tbody tr th:only-of-type {\n",
       "        vertical-align: middle;\n",
       "    }\n",
       "\n",
       "    .dataframe tbody tr th {\n",
       "        vertical-align: top;\n",
       "    }\n",
       "\n",
       "    .dataframe thead th {\n",
       "        text-align: right;\n",
       "    }\n",
       "</style>\n",
       "<table border=\"1\" class=\"dataframe\">\n",
       "  <thead>\n",
       "    <tr style=\"text-align: right;\">\n",
       "      <th></th>\n",
       "      <th>track_name</th>\n",
       "      <th>artist(s)_name</th>\n",
       "      <th>in_shazam_charts</th>\n",
       "      <th>shazam_total</th>\n",
       "    </tr>\n",
       "  </thead>\n",
       "  <tbody>\n",
       "    <tr>\n",
       "      <th>88</th>\n",
       "      <td>Makeba</td>\n",
       "      <td>Jain</td>\n",
       "      <td>1451.0</td>\n",
       "      <td>1451.0</td>\n",
       "    </tr>\n",
       "    <tr>\n",
       "      <th>13</th>\n",
       "      <td>Daylight</td>\n",
       "      <td>David Kushner</td>\n",
       "      <td>1281.0</td>\n",
       "      <td>1281.0</td>\n",
       "    </tr>\n",
       "    <tr>\n",
       "      <th>17</th>\n",
       "      <td>What Was I Made For? [From The Motion Picture ...</td>\n",
       "      <td>Billie Eilish</td>\n",
       "      <td>1173.0</td>\n",
       "      <td>1173.0</td>\n",
       "    </tr>\n",
       "    <tr>\n",
       "      <th>89</th>\n",
       "      <td>MONTAGEM - FR PUNK</td>\n",
       "      <td>Ayparia, unxbected</td>\n",
       "      <td>1170.0</td>\n",
       "      <td>1170.0</td>\n",
       "    </tr>\n",
       "    <tr>\n",
       "      <th>44</th>\n",
       "      <td>Barbie World (with Aqua) [From Barbie The Album]</td>\n",
       "      <td>Nicki Minaj, Aqua, Ice Spice</td>\n",
       "      <td>1133.0</td>\n",
       "      <td>1133.0</td>\n",
       "    </tr>\n",
       "    <tr>\n",
       "      <th>24</th>\n",
       "      <td>Popular (with Playboi Carti &amp; Madonna) - The I...</td>\n",
       "      <td>The Weeknd, Madonna, Playboi Carti</td>\n",
       "      <td>1093.0</td>\n",
       "      <td>1093.0</td>\n",
       "    </tr>\n",
       "    <tr>\n",
       "      <th>12</th>\n",
       "      <td>Flowers</td>\n",
       "      <td>Miley Cyrus</td>\n",
       "      <td>1021.0</td>\n",
       "      <td>1021.0</td>\n",
       "    </tr>\n",
       "    <tr>\n",
       "      <th>653</th>\n",
       "      <td>The Next Episode</td>\n",
       "      <td>Dr. Dre, Snoop Dogg</td>\n",
       "      <td>953.0</td>\n",
       "      <td>953.0</td>\n",
       "    </tr>\n",
       "    <tr>\n",
       "      <th>8</th>\n",
       "      <td>fukumean</td>\n",
       "      <td>Gunna</td>\n",
       "      <td>953.0</td>\n",
       "      <td>953.0</td>\n",
       "    </tr>\n",
       "    <tr>\n",
       "      <th>2</th>\n",
       "      <td>vampire</td>\n",
       "      <td>Olivia Rodrigo</td>\n",
       "      <td>949.0</td>\n",
       "      <td>949.0</td>\n",
       "    </tr>\n",
       "  </tbody>\n",
       "</table>\n",
       "</div>"
      ],
      "text/plain": [
       "                                            track_name  \\\n",
       "88                                              Makeba   \n",
       "13                                            Daylight   \n",
       "17   What Was I Made For? [From The Motion Picture ...   \n",
       "89                                  MONTAGEM - FR PUNK   \n",
       "44    Barbie World (with Aqua) [From Barbie The Album]   \n",
       "24   Popular (with Playboi Carti & Madonna) - The I...   \n",
       "12                                             Flowers   \n",
       "653                                   The Next Episode   \n",
       "8                                             fukumean   \n",
       "2                                              vampire   \n",
       "\n",
       "                         artist(s)_name  in_shazam_charts  shazam_total  \n",
       "88                                 Jain            1451.0        1451.0  \n",
       "13                        David Kushner            1281.0        1281.0  \n",
       "17                        Billie Eilish            1173.0        1173.0  \n",
       "89                   Ayparia, unxbected            1170.0        1170.0  \n",
       "44         Nicki Minaj, Aqua, Ice Spice            1133.0        1133.0  \n",
       "24   The Weeknd, Madonna, Playboi Carti            1093.0        1093.0  \n",
       "12                          Miley Cyrus            1021.0        1021.0  \n",
       "653                 Dr. Dre, Snoop Dogg             953.0         953.0  \n",
       "8                                 Gunna             953.0         953.0  \n",
       "2                        Olivia Rodrigo             949.0         949.0  "
      ]
     },
     "execution_count": 33,
     "metadata": {},
     "output_type": "execute_result"
    }
   ],
   "source": [
    "top_songs_shazam"
   ]
  },
  {
   "cell_type": "code",
   "execution_count": 25,
   "id": "c975b388",
   "metadata": {
    "execution": {
     "iopub.execute_input": "2023-09-21T18:43:30.867964Z",
     "iopub.status.busy": "2023-09-21T18:43:30.867109Z",
     "iopub.status.idle": "2023-09-21T18:43:31.963121Z",
     "shell.execute_reply": "2023-09-21T18:43:31.961672Z"
    },
    "papermill": {
     "duration": 1.137052,
     "end_time": "2023-09-21T18:43:31.966810",
     "exception": false,
     "start_time": "2023-09-21T18:43:30.829758",
     "status": "completed"
    },
    "tags": []
   },
   "outputs": [
    {
     "name": "stderr",
     "output_type": "stream",
     "text": [
      "C:\\Users\\cristiano.nascimento\\AppData\\Local\\Temp\\ipykernel_42380\\3223064609.py:5: FutureWarning: \n",
      "\n",
      "Passing `palette` without assigning `hue` is deprecated and will be removed in v0.14.0. Assign the `y` variable to `hue` and set `legend=False` for the same effect.\n",
      "\n",
      "  sns.barplot(x=top_songs_spotify['spotify_total'], y=top_songs_spotify['track_name'] + \" (\" + top_songs_spotify['artist(s)_name'] + \")\",\n",
      "C:\\Users\\cristiano.nascimento\\AppData\\Local\\Temp\\ipykernel_42380\\3223064609.py:12: FutureWarning: \n",
      "\n",
      "Passing `palette` without assigning `hue` is deprecated and will be removed in v0.14.0. Assign the `y` variable to `hue` and set `legend=False` for the same effect.\n",
      "\n",
      "  sns.barplot(x=top_songs_apple['apple_total'], y=top_songs_apple['track_name'] + \" (\" + top_songs_apple['artist(s)_name'] + \")\",\n"
     ]
    },
    {
     "data": {
      "image/png": "[encoded data removed]",
      "text/plain": [
       "<Figure size 1200x1500 with 2 Axes>"
      ]
     },
     "metadata": {},
     "output_type": "display_data"
    }
   ],
   "source": [
    "# Setting up the figure and axes\n",
    "fig, axes = plt.subplots(nrows=2, figsize=(12, 15))\n",
    "\n",
    "# Plotting the top 10 songs for Spotify\n",
    "sns.barplot(x=top_songs_spotify['spotify_total'], y=top_songs_spotify['track_name'] + \" (\" + top_songs_spotify['artist(s)_name'] + \")\", \n",
    "            palette=\"viridis\", ax=axes[0])\n",
    "axes[0].set_title('Top 10 Songs on Spotify Based on Presence in Playlists/Charts', fontsize=16)\n",
    "axes[0].set_xlabel('Total Presence')\n",
    "axes[0].set_ylabel('Track (Artist)')\n",
    "\n",
    "# Plotting the top 10 songs for Apple Music\n",
    "sns.barplot(x=top_songs_apple['apple_total'], y=top_songs_apple['track_name'] + \" (\" + top_songs_apple['artist(s)_name'] + \")\", \n",
    "            palette=\"viridis\", ax=axes[1])\n",
    "axes[1].set_title('Top 10 Songs on Apple Music Based on Presence in Playlists/Charts', fontsize=16)\n",
    "axes[1].set_xlabel('Total Presence')\n",
    "axes[1].set_ylabel('Track (Artist)')\n",
    "\n",
    "plt.tight_layout()\n",
    "plt.show()"
   ]
  },
  {
   "cell_type": "markdown",
   "id": "84994a69",
   "metadata": {
    "papermill": {
     "duration": 0.038478,
     "end_time": "2023-09-21T18:43:32.046674",
     "exception": false,
     "start_time": "2023-09-21T18:43:32.008196",
     "status": "completed"
    },
    "tags": []
   },
   "source": [
    "# 10. Artists collaborations"
   ]
  },
  {
   "cell_type": "code",
   "execution_count": 26,
   "id": "bffaefd3",
   "metadata": {
    "execution": {
     "iopub.execute_input": "2023-09-21T18:43:32.123474Z",
     "iopub.status.busy": "2023-09-21T18:43:32.122987Z",
     "iopub.status.idle": "2023-09-21T18:43:32.147439Z",
     "shell.execute_reply": "2023-09-21T18:43:32.146078Z"
    },
    "papermill": {
     "duration": 0.066101,
     "end_time": "2023-09-21T18:43:32.150509",
     "exception": false,
     "start_time": "2023-09-21T18:43:32.084408",
     "status": "completed"
    },
    "tags": []
   },
   "outputs": [
    {
     "data": {
      "text/plain": [
       "\" # Identifying collaborations by splitting the 'artist(s)_name' column\\nspotify_data['artists_list'] = spotify_data['artist(s)_name'].str.split(', ')\\n\\n# Filtering out songs that have only one artist to get collaborative tracks\\ncollaborations = spotify_data[spotify_data['artists_list'].apply(len) > 1]\\n\\n# Displaying the first few rows of the collaborations dataframe\\ncollaborations[['track_name', 'artist(s)_name', 'streams', 'in_spotify_playlists', 'in_spotify_charts']].head() \""
      ]
     },
     "execution_count": 26,
     "metadata": {},
     "output_type": "execute_result"
    }
   ],
   "source": [
    "\"\"\" # Identifying collaborations by splitting the 'artist(s)_name' column\n",
    "spotify_data['artists_list'] = spotify_data['artist(s)_name'].str.split(', ')\n",
    "\n",
    "# Filtering out songs that have only one artist to get collaborative tracks\n",
    "collaborations = spotify_data[spotify_data['artists_list'].apply(len) > 1]\n",
    "\n",
    "# Displaying the first few rows of the collaborations dataframe\n",
    "collaborations[['track_name', 'artist(s)_name', 'streams', 'in_spotify_playlists', 'in_spotify_charts']].head() \"\"\""
   ]
  },
  {
   "cell_type": "code",
   "execution_count": 27,
   "id": "b7e6db4a",
   "metadata": {
    "execution": {
     "iopub.execute_input": "2023-09-21T18:43:32.308051Z",
     "iopub.status.busy": "2023-09-21T18:43:32.307085Z",
     "iopub.status.idle": "2023-09-21T18:43:33.140464Z",
     "shell.execute_reply": "2023-09-21T18:43:33.138744Z"
    },
    "papermill": {
     "duration": 0.95732,
     "end_time": "2023-09-21T18:43:33.144155",
     "exception": false,
     "start_time": "2023-09-21T18:43:32.186835",
     "status": "completed"
    },
    "tags": []
   },
   "outputs": [
    {
     "data": {
      "text/plain": [
       "' # Function to get all combinations of artists for each track\\ndef get_artist_combinations(artists_list):\\n    return list(combinations(sorted(artists_list), 2))\\n\\n# Apply the function to the \\'artists_list\\' column to get all artist combinations\\ncollaborations[\\'artist_combinations\\'] = collaborations[\\'artists_list\\'].apply(get_artist_combinations)\\n\\n# Flatten the list of artist combinations to count the frequency of each combination\\nall_combinations = [combo for sublist in collaborations[\\'artist_combinations\\'] for combo in sublist]\\nfrequent_collaborators = pd.Series(all_combinations).value_counts().head(10)\\n\\n# Plotting the top 10 frequent collaborator pairs\\nplt.figure(figsize=(12, 8))\\nsns.barplot(x=frequent_collaborators.values, y=frequent_collaborators.index, palette=\"viridis\")\\nplt.title(\\'Top 10 Frequent Collaborator Pairs\\', fontsize=16)\\nplt.xlabel(\\'Number of Collaborations\\')\\nplt.ylabel(\\'Artist Pairs\\')\\nplt.tight_layout()\\nplt.show() '"
      ]
     },
     "execution_count": 27,
     "metadata": {},
     "output_type": "execute_result"
    }
   ],
   "source": [
    "\"\"\" # Function to get all combinations of artists for each track\n",
    "def get_artist_combinations(artists_list):\n",
    "    return list(combinations(sorted(artists_list), 2))\n",
    "\n",
    "# Apply the function to the 'artists_list' column to get all artist combinations\n",
    "collaborations['artist_combinations'] = collaborations['artists_list'].apply(get_artist_combinations)\n",
    "\n",
    "# Flatten the list of artist combinations to count the frequency of each combination\n",
    "all_combinations = [combo for sublist in collaborations['artist_combinations'] for combo in sublist]\n",
    "frequent_collaborators = pd.Series(all_combinations).value_counts().head(10)\n",
    "\n",
    "# Plotting the top 10 frequent collaborator pairs\n",
    "plt.figure(figsize=(12, 8))\n",
    "sns.barplot(x=frequent_collaborators.values, y=frequent_collaborators.index, palette=\"viridis\")\n",
    "plt.title('Top 10 Frequent Collaborator Pairs', fontsize=16)\n",
    "plt.xlabel('Number of Collaborations')\n",
    "plt.ylabel('Artist Pairs')\n",
    "plt.tight_layout()\n",
    "plt.show() \"\"\""
   ]
  },
  {
   "cell_type": "code",
   "execution_count": 28,
   "id": "7a9bd74a",
   "metadata": {
    "execution": {
     "iopub.execute_input": "2023-09-21T18:43:33.227467Z",
     "iopub.status.busy": "2023-09-21T18:43:33.227038Z",
     "iopub.status.idle": "2023-09-21T18:43:33.691331Z",
     "shell.execute_reply": "2023-09-21T18:43:33.689720Z"
    },
    "papermill": {
     "duration": 0.506899,
     "end_time": "2023-09-21T18:43:33.694344",
     "exception": false,
     "start_time": "2023-09-21T18:43:33.187445",
     "status": "completed"
    },
    "tags": []
   },
   "outputs": [
    {
     "data": {
      "text/plain": [
       "' # Calculating average streams and presence in playlists for collaborative tracks\\ncollab_avg_streams = collaborations[\\'streams\\'].mean()\\n\\n# Calculating average streams and presence in playlists for all tracks\\noverall_avg_streams = spotify_data[\\'streams\\'].mean()\\n\\n# Creating a DataFrame to visualize the comparison\\ndata = {\\n    \\'Metrics\\': [\\'Average Streams\\'],\\n    \\'Collaborations\\': [collab_avg_streams],\\n    \\'Overall\\': [overall_avg_streams]\\n}\\ncomparison_df = pd.DataFrame(data).melt(id_vars=[\\'Metrics\\'], value_vars=[\\'Collaborations\\', \\'Overall\\'])\\n\\n# Plotting the comparison\\nplt.figure(figsize=(12, 7))\\nsns.barplot(x=\\'Metrics\\', y=\\'value\\', hue=\\'variable\\', data=comparison_df, palette=\"viridis\")\\nplt.title(\\'Comparison of Streams: Collaborations vs. Overall\\', fontsize=16)\\nplt.xlabel(\\'\\')\\nplt.ylabel(\\'\\')\\nplt.legend(title=\\'\\')\\nplt.tight_layout()\\nplt.show()\\n '"
      ]
     },
     "execution_count": 28,
     "metadata": {},
     "output_type": "execute_result"
    }
   ],
   "source": [
    "\"\"\" # Calculating average streams and presence in playlists for collaborative tracks\n",
    "collab_avg_streams = collaborations['streams'].mean()\n",
    "\n",
    "# Calculating average streams and presence in playlists for all tracks\n",
    "overall_avg_streams = spotify_data['streams'].mean()\n",
    "\n",
    "# Creating a DataFrame to visualize the comparison\n",
    "data = {\n",
    "    'Metrics': ['Average Streams'],\n",
    "    'Collaborations': [collab_avg_streams],\n",
    "    'Overall': [overall_avg_streams]\n",
    "}\n",
    "comparison_df = pd.DataFrame(data).melt(id_vars=['Metrics'], value_vars=['Collaborations', 'Overall'])\n",
    "\n",
    "# Plotting the comparison\n",
    "plt.figure(figsize=(12, 7))\n",
    "sns.barplot(x='Metrics', y='value', hue='variable', data=comparison_df, palette=\"viridis\")\n",
    "plt.title('Comparison of Streams: Collaborations vs. Overall', fontsize=16)\n",
    "plt.xlabel('')\n",
    "plt.ylabel('')\n",
    "plt.legend(title='')\n",
    "plt.tight_layout()\n",
    "plt.show()\n",
    " \"\"\""
   ]
  },
  {
   "cell_type": "code",
   "execution_count": 29,
   "id": "bff24f35",
   "metadata": {
    "execution": {
     "iopub.execute_input": "2023-09-21T18:43:33.781307Z",
     "iopub.status.busy": "2023-09-21T18:43:33.780831Z",
     "iopub.status.idle": "2023-09-21T18:43:34.186683Z",
     "shell.execute_reply": "2023-09-21T18:43:34.185115Z"
    },
    "papermill": {
     "duration": 0.453677,
     "end_time": "2023-09-21T18:43:34.189511",
     "exception": false,
     "start_time": "2023-09-21T18:43:33.735834",
     "status": "completed"
    },
    "tags": []
   },
   "outputs": [
    {
     "data": {
      "text/plain": [
       "' # Recalculating the average Spotify presence for collaborative tracks and overall tracks\\ncollab_avg_spotify_presence = (collaborations[\\'in_spotify_playlists\\'] + collaborations[\\'in_spotify_charts\\']).mean()\\noverall_avg_spotify_presence = (spotify_data[\\'in_spotify_playlists\\'] + spotify_data[\\'in_spotify_charts\\']).mean()\\n\\n# Plotting the comparison for Average Spotify Presence\\nlabels = [\\'Collaborations\\', \\'Overall\\']\\nvalues = [collab_avg_spotify_presence, overall_avg_spotify_presence]\\n\\nplt.figure(figsize=(10, 7))\\nsns.barplot(x=labels, y=values, palette=\"viridis\")\\nplt.title(\\'Average Spotify Presence: Collaborations vs. Overall\\', fontsize=16)\\nplt.ylabel(\\'Average Presence\\')\\nplt.tight_layout()\\nplt.show() '"
      ]
     },
     "execution_count": 29,
     "metadata": {},
     "output_type": "execute_result"
    }
   ],
   "source": [
    "\"\"\" # Recalculating the average Spotify presence for collaborative tracks and overall tracks\n",
    "collab_avg_spotify_presence = (collaborations['in_spotify_playlists'] + collaborations['in_spotify_charts']).mean()\n",
    "overall_avg_spotify_presence = (spotify_data['in_spotify_playlists'] + spotify_data['in_spotify_charts']).mean()\n",
    "\n",
    "# Plotting the comparison for Average Spotify Presence\n",
    "labels = ['Collaborations', 'Overall']\n",
    "values = [collab_avg_spotify_presence, overall_avg_spotify_presence]\n",
    "\n",
    "plt.figure(figsize=(10, 7))\n",
    "sns.barplot(x=labels, y=values, palette=\"viridis\")\n",
    "plt.title('Average Spotify Presence: Collaborations vs. Overall', fontsize=16)\n",
    "plt.ylabel('Average Presence')\n",
    "plt.tight_layout()\n",
    "plt.show() \"\"\""
   ]
  },
  {
   "cell_type": "code",
   "execution_count": null,
   "id": "55ef2e32",
   "metadata": {},
   "outputs": [],
   "source": []
  }
 ],
 "metadata": {
  "kernelspec": {
   "display_name": "Python 3",
   "language": "python",
   "name": "python3"
  },
  "language_info": {
   "codemirror_mode": {
    "name": "ipython",
    "version": 3
   },
   "file_extension": ".py",
   "mimetype": "text/x-python",
   "name": "python",
   "nbconvert_exporter": "python",
   "pygments_lexer": "ipython3",
   "version": "3.11.8"
  },
  "papermill": {
   "default_parameters": {},
   "duration": 26.911353,
   "end_time": "2023-09-21T18:43:35.236979",
   "environment_variables": {},
   "exception": null,
   "input_path": "__notebook__.ipynb",
   "output_path": "__notebook__.ipynb",
   "parameters": {},
   "start_time": "2023-09-21T18:43:08.325626",
   "version": "2.4.0"
  }
 },
 "nbformat": 4,
 "nbformat_minor": 5
}
