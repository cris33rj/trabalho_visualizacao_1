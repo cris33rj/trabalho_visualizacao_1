{
 "cells": [
  {
   "cell_type": "code",
   "execution_count": 1,
   "id": "fbdb5c0c",
   "metadata": {
    "_cell_guid": "b1076dfc-b9ad-4769-8c92-a6c4dae69d19",
    "_uuid": "8f2839f25d086af736a60e9eeb907d3b93b6e0e5",
    "execution": {
     "iopub.execute_input": "2023-09-21T18:43:12.556530Z",
     "iopub.status.busy": "2023-09-21T18:43:12.555612Z",
     "iopub.status.idle": "2023-09-21T18:43:15.036941Z",
     "shell.execute_reply": "2023-09-21T18:43:15.035418Z"
    },
    "papermill": {
     "duration": 2.503847,
     "end_time": "2023-09-21T18:43:15.040665",
     "exception": false,
     "start_time": "2023-09-21T18:43:12.536818",
     "status": "completed"
    },
    "tags": []
   },
   "outputs": [],
   "source": [
    "import numpy as np # linear algebra\n",
    "import pandas as pd # data processing, CSV file I/O (e.g. pd.read_csv)\n",
    "import sys"
   ]
  },
  {
   "cell_type": "code",
   "execution_count": 2,
   "id": "c70d24ee",
   "metadata": {
    "execution": {
     "iopub.execute_input": "2023-09-21T18:43:15.086043Z",
     "iopub.status.busy": "2023-09-21T18:43:15.085290Z",
     "iopub.status.idle": "2023-09-21T18:43:15.164537Z",
     "shell.execute_reply": "2023-09-21T18:43:15.162921Z"
    },
    "papermill": {
     "duration": 0.094989,
     "end_time": "2023-09-21T18:43:15.167926",
     "exception": false,
     "start_time": "2023-09-21T18:43:15.072937",
     "status": "completed"
    },
    "tags": []
   },
   "outputs": [],
   "source": [
    "# Attempting to load the dataset using 'ISO-8859-1' encoding\n",
    "spotify_data = pd.read_csv('./data/spotify-2023.csv', encoding='ISO-8859-1')\n",
    "\n",
    "# Displaying the first few rows of the dataset\n",
    "#spotify_data.head()\n"
   ]
  },
  {
   "cell_type": "code",
   "execution_count": 3,
   "id": "668696a8",
   "metadata": {},
   "outputs": [],
   "source": [
    "def remover_virgula(string):\n",
    "    if isinstance(string, str):\n",
    "        string = float(string.replace(\",\", \"\"))        \n",
    "    return string "
   ]
  },
  {
   "cell_type": "code",
   "execution_count": 4,
   "id": "95986f06",
   "metadata": {},
   "outputs": [],
   "source": [
    "spotify_data['in_deezer_playlists'] = spotify_data['in_deezer_playlists'].apply(remover_virgula)\n",
    "teste = spotify_data['in_deezer_playlists'].sum()\n",
    "#print(teste)"
   ]
  },
  {
   "cell_type": "code",
   "execution_count": 5,
   "id": "0579f714",
   "metadata": {},
   "outputs": [],
   "source": [
    "#spotify_data['in_deezer_charts'] = spotify_data['in_deezer_charts'].apply(remover_virgula)\n",
    "#teste = spotify_data['in_deezer_charts'].sum()\n",
    "#print(teste)"
   ]
  },
  {
   "cell_type": "code",
   "execution_count": 6,
   "id": "34c59b1f",
   "metadata": {},
   "outputs": [],
   "source": [
    "spotify_data['in_shazam_charts'] = spotify_data['in_shazam_charts'].apply(remover_virgula)\n",
    "\n",
    "#teste3 = spotify_data['in_shazam_charts'].sum()\n",
    "#print(teste3)"
   ]
  },
  {
   "cell_type": "code",
   "execution_count": 7,
   "id": "f248c68c",
   "metadata": {
    "execution": {
     "iopub.execute_input": "2023-09-21T18:43:30.188664Z",
     "iopub.status.busy": "2023-09-21T18:43:30.187796Z",
     "iopub.status.idle": "2023-09-21T18:43:30.602691Z",
     "shell.execute_reply": "2023-09-21T18:43:30.601036Z"
    },
    "papermill": {
     "duration": 0.453186,
     "end_time": "2023-09-21T18:43:30.605794",
     "exception": false,
     "start_time": "2023-09-21T18:43:30.152608",
     "status": "completed"
    },
    "tags": []
   },
   "outputs": [],
   "source": [
    "# Calculating the total count of tracks present in playlists/charts for Spotify and Apple Music\n",
    "total_counts = {\n",
    "    'Spotify': spotify_data['in_spotify_playlists'].sum() + spotify_data['in_spotify_charts'].sum(),\n",
    "    'Apple Music': spotify_data['in_apple_playlists'].sum() + spotify_data['in_apple_charts'].sum(),\n",
    "    'Deezer Music': spotify_data['in_deezer_playlists'].sum() + spotify_data['in_deezer_charts'].sum(),\n",
    "    'Shazam Music': spotify_data['in_shazam_charts'].sum()\n",
    "}\n",
    "\n",
    "\n"
   ]
  },
  {
   "cell_type": "code",
   "execution_count": 18,
   "id": "15b8001f",
   "metadata": {},
   "outputs": [
    {
     "name": "stdout",
     "output_type": "stream",
     "text": [
      "{'Spotify': 4967164, 'Apple Music': 114094, 'Deezer Music': 369625.0, 'Shazam Music': 54176.0}\n"
     ]
    }
   ],
   "source": [
    "print(total_counts)"
   ]
  },
  {
   "cell_type": "code",
   "execution_count": 25,
   "id": "d7740803",
   "metadata": {},
   "outputs": [],
   "source": [
    "columns = ['plataforma', 'contagem']\n",
    "\n",
    "# Create a DataFrame\n",
    "#df_total_counts = pd.DataFrame(total_counts, index=total_counts.keys(), data=total_counts.values(), columns=columns)\n",
    "df_total_counts  = pd.DataFrame(list(total_counts.items()), columns=['plataforma', 'contagem'])"
   ]
  },
  {
   "cell_type": "code",
   "execution_count": 26,
   "id": "a5965f17",
   "metadata": {},
   "outputs": [
    {
     "data": {
      "text/html": [
       "<div>\n",
       "<style scoped>\n",
       "    .dataframe tbody tr th:only-of-type {\n",
       "        vertical-align: middle;\n",
       "    }\n",
       "\n",
       "    .dataframe tbody tr th {\n",
       "        vertical-align: top;\n",
       "    }\n",
       "\n",
       "    .dataframe thead th {\n",
       "        text-align: right;\n",
       "    }\n",
       "</style>\n",
       "<table border=\"1\" class=\"dataframe\">\n",
       "  <thead>\n",
       "    <tr style=\"text-align: right;\">\n",
       "      <th></th>\n",
       "      <th>plataforma</th>\n",
       "      <th>contagem</th>\n",
       "    </tr>\n",
       "  </thead>\n",
       "  <tbody>\n",
       "    <tr>\n",
       "      <th>0</th>\n",
       "      <td>Spotify</td>\n",
       "      <td>4967164.0</td>\n",
       "    </tr>\n",
       "    <tr>\n",
       "      <th>1</th>\n",
       "      <td>Apple Music</td>\n",
       "      <td>114094.0</td>\n",
       "    </tr>\n",
       "    <tr>\n",
       "      <th>2</th>\n",
       "      <td>Deezer Music</td>\n",
       "      <td>369625.0</td>\n",
       "    </tr>\n",
       "    <tr>\n",
       "      <th>3</th>\n",
       "      <td>Shazam Music</td>\n",
       "      <td>54176.0</td>\n",
       "    </tr>\n",
       "  </tbody>\n",
       "</table>\n",
       "</div>"
      ],
      "text/plain": [
       "     plataforma   contagem\n",
       "0       Spotify  4967164.0\n",
       "1   Apple Music   114094.0\n",
       "2  Deezer Music   369625.0\n",
       "3  Shazam Music    54176.0"
      ]
     },
     "execution_count": 26,
     "metadata": {},
     "output_type": "execute_result"
    }
   ],
   "source": [
    "df_total_counts.head()"
   ]
  },
  {
   "cell_type": "code",
   "execution_count": 14,
   "id": "5fbfef0c",
   "metadata": {},
   "outputs": [],
   "source": [
    "#df_total_counts_spotify_apple_deezer_shazam.head()"
   ]
  },
  {
   "cell_type": "code",
   "execution_count": 27,
   "id": "bcc4324c",
   "metadata": {},
   "outputs": [
    {
     "name": "stdout",
     "output_type": "stream",
     "text": [
      "plataforma,contagem\n",
      "Spotify,4967164.0\n",
      "Apple Music,114094.0\n",
      "Deezer Music,369625.0\n",
      "Shazam Music,54176.0\n"
     ]
    }
   ],
   "source": [
    "df_total_counts.to_csv(sys.stdout,header=True,index=False)"
   ]
  }
 ],
 "metadata": {
  "kernelspec": {
   "display_name": "Python 3",
   "language": "python",
   "name": "python3"
  },
  "language_info": {
   "codemirror_mode": {
    "name": "ipython",
    "version": 3
   },
   "file_extension": ".py",
   "mimetype": "text/x-python",
   "name": "python",
   "nbconvert_exporter": "python",
   "pygments_lexer": "ipython3",
   "version": "3.11.8"
  },
  "papermill": {
   "default_parameters": {},
   "duration": 26.911353,
   "end_time": "2023-09-21T18:43:35.236979",
   "environment_variables": {},
   "exception": null,
   "input_path": "__notebook__.ipynb",
   "output_path": "__notebook__.ipynb",
   "parameters": {},
   "start_time": "2023-09-21T18:43:08.325626",
   "version": "2.4.0"
  }
 },
 "nbformat": 4,
 "nbformat_minor": 5
}
